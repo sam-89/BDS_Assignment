{
 "cells": [
  {
   "cell_type": "code",
   "execution_count": 104,
   "metadata": {},
   "outputs": [],
   "source": [
    "import pandas as pd"
   ]
  },
  {
   "cell_type": "code",
   "execution_count": 105,
   "metadata": {},
   "outputs": [],
   "source": [
    "df = pd.read_csv(\"spotify_millsongdata.csv\")"
   ]
  },
  {
   "cell_type": "code",
   "execution_count": 106,
   "metadata": {},
   "outputs": [
    {
     "data": {
      "text/html": [
       "<div>\n",
       "<style scoped>\n",
       "    .dataframe tbody tr th:only-of-type {\n",
       "        vertical-align: middle;\n",
       "    }\n",
       "\n",
       "    .dataframe tbody tr th {\n",
       "        vertical-align: top;\n",
       "    }\n",
       "\n",
       "    .dataframe thead th {\n",
       "        text-align: right;\n",
       "    }\n",
       "</style>\n",
       "<table border=\"1\" class=\"dataframe\">\n",
       "  <thead>\n",
       "    <tr style=\"text-align: right;\">\n",
       "      <th></th>\n",
       "      <th>artist</th>\n",
       "      <th>song</th>\n",
       "      <th>link</th>\n",
       "      <th>text</th>\n",
       "    </tr>\n",
       "  </thead>\n",
       "  <tbody>\n",
       "    <tr>\n",
       "      <th>0</th>\n",
       "      <td>ABBA</td>\n",
       "      <td>Ahe's My Kind Of Girl</td>\n",
       "      <td>/a/abba/ahes+my+kind+of+girl_20598417.html</td>\n",
       "      <td>Look at her face, it's a wonderful face  \\r\\nA...</td>\n",
       "    </tr>\n",
       "    <tr>\n",
       "      <th>1</th>\n",
       "      <td>ABBA</td>\n",
       "      <td>Andante, Andante</td>\n",
       "      <td>/a/abba/andante+andante_20002708.html</td>\n",
       "      <td>Take it easy with me, please  \\r\\nTouch me gen...</td>\n",
       "    </tr>\n",
       "    <tr>\n",
       "      <th>2</th>\n",
       "      <td>ABBA</td>\n",
       "      <td>As Good As New</td>\n",
       "      <td>/a/abba/as+good+as+new_20003033.html</td>\n",
       "      <td>I'll never know why I had to go  \\r\\nWhy I had...</td>\n",
       "    </tr>\n",
       "    <tr>\n",
       "      <th>3</th>\n",
       "      <td>ABBA</td>\n",
       "      <td>Bang</td>\n",
       "      <td>/a/abba/bang_20598415.html</td>\n",
       "      <td>Making somebody happy is a question of give an...</td>\n",
       "    </tr>\n",
       "    <tr>\n",
       "      <th>4</th>\n",
       "      <td>ABBA</td>\n",
       "      <td>Bang-A-Boomerang</td>\n",
       "      <td>/a/abba/bang+a+boomerang_20002668.html</td>\n",
       "      <td>Making somebody happy is a question of give an...</td>\n",
       "    </tr>\n",
       "  </tbody>\n",
       "</table>\n",
       "</div>"
      ],
      "text/plain": [
       "  artist                   song                                        link  \\\n",
       "0   ABBA  Ahe's My Kind Of Girl  /a/abba/ahes+my+kind+of+girl_20598417.html   \n",
       "1   ABBA       Andante, Andante       /a/abba/andante+andante_20002708.html   \n",
       "2   ABBA         As Good As New        /a/abba/as+good+as+new_20003033.html   \n",
       "3   ABBA                   Bang                  /a/abba/bang_20598415.html   \n",
       "4   ABBA       Bang-A-Boomerang      /a/abba/bang+a+boomerang_20002668.html   \n",
       "\n",
       "                                                text  \n",
       "0  Look at her face, it's a wonderful face  \\r\\nA...  \n",
       "1  Take it easy with me, please  \\r\\nTouch me gen...  \n",
       "2  I'll never know why I had to go  \\r\\nWhy I had...  \n",
       "3  Making somebody happy is a question of give an...  \n",
       "4  Making somebody happy is a question of give an...  "
      ]
     },
     "execution_count": 106,
     "metadata": {},
     "output_type": "execute_result"
    }
   ],
   "source": [
    "df.head(5)"
   ]
  },
  {
   "cell_type": "code",
   "execution_count": 107,
   "metadata": {},
   "outputs": [
    {
     "data": {
      "text/html": [
       "<div>\n",
       "<style scoped>\n",
       "    .dataframe tbody tr th:only-of-type {\n",
       "        vertical-align: middle;\n",
       "    }\n",
       "\n",
       "    .dataframe tbody tr th {\n",
       "        vertical-align: top;\n",
       "    }\n",
       "\n",
       "    .dataframe thead th {\n",
       "        text-align: right;\n",
       "    }\n",
       "</style>\n",
       "<table border=\"1\" class=\"dataframe\">\n",
       "  <thead>\n",
       "    <tr style=\"text-align: right;\">\n",
       "      <th></th>\n",
       "      <th>artist</th>\n",
       "      <th>song</th>\n",
       "      <th>link</th>\n",
       "      <th>text</th>\n",
       "    </tr>\n",
       "  </thead>\n",
       "  <tbody>\n",
       "    <tr>\n",
       "      <th>57645</th>\n",
       "      <td>Ziggy Marley</td>\n",
       "      <td>Good Old Days</td>\n",
       "      <td>/z/ziggy+marley/good+old+days_10198588.html</td>\n",
       "      <td>Irie days come on play  \\r\\nLet the angels fly...</td>\n",
       "    </tr>\n",
       "    <tr>\n",
       "      <th>57646</th>\n",
       "      <td>Ziggy Marley</td>\n",
       "      <td>Hand To Mouth</td>\n",
       "      <td>/z/ziggy+marley/hand+to+mouth_20531167.html</td>\n",
       "      <td>Power to the workers  \\r\\nMore power  \\r\\nPowe...</td>\n",
       "    </tr>\n",
       "    <tr>\n",
       "      <th>57647</th>\n",
       "      <td>Zwan</td>\n",
       "      <td>Come With Me</td>\n",
       "      <td>/z/zwan/come+with+me_20148981.html</td>\n",
       "      <td>all you need  \\r\\nis something i'll believe  \\...</td>\n",
       "    </tr>\n",
       "    <tr>\n",
       "      <th>57648</th>\n",
       "      <td>Zwan</td>\n",
       "      <td>Desire</td>\n",
       "      <td>/z/zwan/desire_20148986.html</td>\n",
       "      <td>northern star  \\r\\nam i frightened  \\r\\nwhere ...</td>\n",
       "    </tr>\n",
       "    <tr>\n",
       "      <th>57649</th>\n",
       "      <td>Zwan</td>\n",
       "      <td>Heartsong</td>\n",
       "      <td>/z/zwan/heartsong_20148991.html</td>\n",
       "      <td>come in  \\r\\nmake yourself at home  \\r\\ni'm a ...</td>\n",
       "    </tr>\n",
       "  </tbody>\n",
       "</table>\n",
       "</div>"
      ],
      "text/plain": [
       "             artist           song  \\\n",
       "57645  Ziggy Marley  Good Old Days   \n",
       "57646  Ziggy Marley  Hand To Mouth   \n",
       "57647          Zwan   Come With Me   \n",
       "57648          Zwan         Desire   \n",
       "57649          Zwan      Heartsong   \n",
       "\n",
       "                                              link  \\\n",
       "57645  /z/ziggy+marley/good+old+days_10198588.html   \n",
       "57646  /z/ziggy+marley/hand+to+mouth_20531167.html   \n",
       "57647           /z/zwan/come+with+me_20148981.html   \n",
       "57648                 /z/zwan/desire_20148986.html   \n",
       "57649              /z/zwan/heartsong_20148991.html   \n",
       "\n",
       "                                                    text  \n",
       "57645  Irie days come on play  \\r\\nLet the angels fly...  \n",
       "57646  Power to the workers  \\r\\nMore power  \\r\\nPowe...  \n",
       "57647  all you need  \\r\\nis something i'll believe  \\...  \n",
       "57648  northern star  \\r\\nam i frightened  \\r\\nwhere ...  \n",
       "57649  come in  \\r\\nmake yourself at home  \\r\\ni'm a ...  "
      ]
     },
     "execution_count": 107,
     "metadata": {},
     "output_type": "execute_result"
    }
   ],
   "source": [
    "df.tail(5)"
   ]
  },
  {
   "cell_type": "code",
   "execution_count": 108,
   "metadata": {},
   "outputs": [
    {
     "data": {
      "text/plain": [
       "(57650, 4)"
      ]
     },
     "execution_count": 108,
     "metadata": {},
     "output_type": "execute_result"
    }
   ],
   "source": [
    "df.shape"
   ]
  },
  {
   "cell_type": "code",
   "execution_count": 109,
   "metadata": {},
   "outputs": [
    {
     "data": {
      "text/plain": [
       "artist    0\n",
       "song      0\n",
       "link      0\n",
       "text      0\n",
       "dtype: int64"
      ]
     },
     "execution_count": 109,
     "metadata": {},
     "output_type": "execute_result"
    }
   ],
   "source": [
    "df.isnull().sum()"
   ]
  },
  {
   "cell_type": "code",
   "execution_count": 110,
   "metadata": {},
   "outputs": [],
   "source": [
    "df =df.sample(5000).drop('link', axis=1).reset_index(drop=True)"
   ]
  },
  {
   "cell_type": "code",
   "execution_count": 111,
   "metadata": {},
   "outputs": [
    {
     "data": {
      "text/html": [
       "<div>\n",
       "<style scoped>\n",
       "    .dataframe tbody tr th:only-of-type {\n",
       "        vertical-align: middle;\n",
       "    }\n",
       "\n",
       "    .dataframe tbody tr th {\n",
       "        vertical-align: top;\n",
       "    }\n",
       "\n",
       "    .dataframe thead th {\n",
       "        text-align: right;\n",
       "    }\n",
       "</style>\n",
       "<table border=\"1\" class=\"dataframe\">\n",
       "  <thead>\n",
       "    <tr style=\"text-align: right;\">\n",
       "      <th></th>\n",
       "      <th>artist</th>\n",
       "      <th>song</th>\n",
       "      <th>text</th>\n",
       "    </tr>\n",
       "  </thead>\n",
       "  <tbody>\n",
       "    <tr>\n",
       "      <th>0</th>\n",
       "      <td>Avril Lavigne</td>\n",
       "      <td>You Ain't Seen Nothin' Yet</td>\n",
       "      <td>First glance, you nearly made my jaw drop  \\r\\...</td>\n",
       "    </tr>\n",
       "    <tr>\n",
       "      <th>1</th>\n",
       "      <td>Procol Harum</td>\n",
       "      <td>Too Much Between Us</td>\n",
       "      <td>There's you, you're sleeping over there  \\r\\nW...</td>\n",
       "    </tr>\n",
       "    <tr>\n",
       "      <th>2</th>\n",
       "      <td>The Beatles</td>\n",
       "      <td>I'll Get You</td>\n",
       "      <td>Oh yeah, oh yeah  \\r\\nOh yeah, oh yeah  \\r\\n  ...</td>\n",
       "    </tr>\n",
       "    <tr>\n",
       "      <th>3</th>\n",
       "      <td>Keith Urban</td>\n",
       "      <td>Where The Blacktop Ends</td>\n",
       "      <td>Gonna kick off my shoes  \\r\\nAnd run in bare f...</td>\n",
       "    </tr>\n",
       "    <tr>\n",
       "      <th>4</th>\n",
       "      <td>P!nk</td>\n",
       "      <td>Do That...</td>\n",
       "      <td>I like that though  \\r\\nThat's what's up  \\r\\n...</td>\n",
       "    </tr>\n",
       "    <tr>\n",
       "      <th>5</th>\n",
       "      <td>Uncle Tupelo</td>\n",
       "      <td>Anodyne</td>\n",
       "      <td>You threw out the past  \\r\\nWhen you threw out...</td>\n",
       "    </tr>\n",
       "    <tr>\n",
       "      <th>6</th>\n",
       "      <td>Crowded House</td>\n",
       "      <td>Time Immemorial</td>\n",
       "      <td>Start in the way that you want to go on  \\r\\nT...</td>\n",
       "    </tr>\n",
       "    <tr>\n",
       "      <th>7</th>\n",
       "      <td>Death</td>\n",
       "      <td>1,000 Eyes</td>\n",
       "      <td>Crossing the line into the other side  \\r\\nEme...</td>\n",
       "    </tr>\n",
       "    <tr>\n",
       "      <th>8</th>\n",
       "      <td>Mazzy Star</td>\n",
       "      <td>Bells Ring</td>\n",
       "      <td>Bells ring into the night  \\r\\nSounds like a m...</td>\n",
       "    </tr>\n",
       "    <tr>\n",
       "      <th>9</th>\n",
       "      <td>Lionel Richie</td>\n",
       "      <td>Time Of Our Life</td>\n",
       "      <td>Hey, I can see that smile on your face  \\r\\nTo...</td>\n",
       "    </tr>\n",
       "  </tbody>\n",
       "</table>\n",
       "</div>"
      ],
      "text/plain": [
       "          artist                        song  \\\n",
       "0  Avril Lavigne  You Ain't Seen Nothin' Yet   \n",
       "1   Procol Harum         Too Much Between Us   \n",
       "2    The Beatles                I'll Get You   \n",
       "3    Keith Urban     Where The Blacktop Ends   \n",
       "4           P!nk                  Do That...   \n",
       "5   Uncle Tupelo                     Anodyne   \n",
       "6  Crowded House             Time Immemorial   \n",
       "7          Death                  1,000 Eyes   \n",
       "8     Mazzy Star                  Bells Ring   \n",
       "9  Lionel Richie            Time Of Our Life   \n",
       "\n",
       "                                                text  \n",
       "0  First glance, you nearly made my jaw drop  \\r\\...  \n",
       "1  There's you, you're sleeping over there  \\r\\nW...  \n",
       "2  Oh yeah, oh yeah  \\r\\nOh yeah, oh yeah  \\r\\n  ...  \n",
       "3  Gonna kick off my shoes  \\r\\nAnd run in bare f...  \n",
       "4  I like that though  \\r\\nThat's what's up  \\r\\n...  \n",
       "5  You threw out the past  \\r\\nWhen you threw out...  \n",
       "6  Start in the way that you want to go on  \\r\\nT...  \n",
       "7  Crossing the line into the other side  \\r\\nEme...  \n",
       "8  Bells ring into the night  \\r\\nSounds like a m...  \n",
       "9  Hey, I can see that smile on your face  \\r\\nTo...  "
      ]
     },
     "execution_count": 111,
     "metadata": {},
     "output_type": "execute_result"
    }
   ],
   "source": [
    "df.head(10)"
   ]
  },
  {
   "cell_type": "code",
   "execution_count": 112,
   "metadata": {},
   "outputs": [
    {
     "data": {
      "text/plain": [
       "\"First glance, you nearly made my jaw drop  \\r\\nFirst dance, and you were looking so hot  \\r\\nHow tense, I moved in for a lip-lock  \\r\\nDon't stop baby, don't stop baby  \\r\\n  \\r\\nA first taste like honey, you were so yum  \\r\\nCan't wait for a second 'cause it's so fun  \\r\\nThird base, I'm headed for a homerun  \\r\\nDon't stop baby, don't stop baby now  \\r\\n  \\r\\nHold on tight to this rollercoaster ride  \\r\\nAnd if you're loving this  \\r\\nJust give me one more kiss  \\r\\n'Cause you ain't seen nothing yet  \\r\\n  \\r\\nJust let go, if you don't, we'll never know  \\r\\nSo if you're loving this  \\r\\nJust give me one more kiss  \\r\\n'Cause you ain't seen nothing yet  \\r\\n  \\r\\nMy place, you showed up with flowers  \\r\\nYour face, could stare at it for hours  \\r\\nCan't wait to see your superpowers  \\r\\nDon't stop baby, don't stop baby  \\r\\n  \\r\\nYour car, I'm sitting right beside you  \\r\\nRockstar at everything that you do  \\r\\nMy heart is ready for the next move  \\r\\nDon't stop baby, don't stop baby now  \\r\\n  \\r\\nHold on tight to this rollercoaster ride  \\r\\nAnd if you're loving this  \\r\\nJust give me one more kiss  \\r\\n'Cause you ain't seen nothing yet  \\r\\n  \\r\\nJust let go, if you don't, we'll never know  \\r\\nSo if you're loving this  \\r\\nJust give me one more kiss  \\r\\n'Cause you ain't seen nothing yet  \\r\\n  \\r\\nYeah yeah, not yet  \\r\\nYeah yeah, not yet  \\r\\nYeah yeah, not yet  \\r\\n'Cause you ain't seen nothing yet  \\r\\n  \\r\\nHold on tight to this rollercoaster ride  \\r\\nAnd if you're loving this  \\r\\nJust give me one more kiss  \\r\\n'Cause you ain't seen nothing yet  \\r\\n  \\r\\nJust let go, if you don't, we'll never know  \\r\\nSo if you're loving this  \\r\\nJust give me one more kiss  \\r\\n'Cause you ain't seen nothing yet  \\r\\n  \\r\\nYeah yeah, not yet  \\r\\nYeah yeah, not yet  \\r\\nYeah yeah, not yet  \\r\\n'Cause you ain't seen nothing yet\\r\\n\\r\\n\""
      ]
     },
     "execution_count": 112,
     "metadata": {},
     "output_type": "execute_result"
    }
   ],
   "source": [
    "df['text'][0]"
   ]
  },
  {
   "cell_type": "code",
   "execution_count": 113,
   "metadata": {},
   "outputs": [],
   "source": [
    "df['text'] = df['text'].str.lower().replace(r'^\\w\\s',' ').replace(r'\\n', ' ', regex = True)"
   ]
  },
  {
   "cell_type": "code",
   "execution_count": 114,
   "metadata": {},
   "outputs": [
    {
     "data": {
      "text/html": [
       "<div>\n",
       "<style scoped>\n",
       "    .dataframe tbody tr th:only-of-type {\n",
       "        vertical-align: middle;\n",
       "    }\n",
       "\n",
       "    .dataframe tbody tr th {\n",
       "        vertical-align: top;\n",
       "    }\n",
       "\n",
       "    .dataframe thead th {\n",
       "        text-align: right;\n",
       "    }\n",
       "</style>\n",
       "<table border=\"1\" class=\"dataframe\">\n",
       "  <thead>\n",
       "    <tr style=\"text-align: right;\">\n",
       "      <th></th>\n",
       "      <th>artist</th>\n",
       "      <th>song</th>\n",
       "      <th>text</th>\n",
       "    </tr>\n",
       "  </thead>\n",
       "  <tbody>\n",
       "    <tr>\n",
       "      <th>4995</th>\n",
       "      <td>Thin Lizzy</td>\n",
       "      <td>Fighting My Way Back</td>\n",
       "      <td>i'm tough, rough, ready and able  \\r to pick m...</td>\n",
       "    </tr>\n",
       "    <tr>\n",
       "      <th>4996</th>\n",
       "      <td>Ray Charles</td>\n",
       "      <td>Georgia On My Mind</td>\n",
       "      <td>georgia, georgia,  \\r the whole day through  \\...</td>\n",
       "    </tr>\n",
       "    <tr>\n",
       "      <th>4997</th>\n",
       "      <td>Z-Ro</td>\n",
       "      <td>Can't Leave Drank Alone</td>\n",
       "      <td>i can't leave drank alone it got me feeling  \\...</td>\n",
       "    </tr>\n",
       "    <tr>\n",
       "      <th>4998</th>\n",
       "      <td>Wu-Tang Clan</td>\n",
       "      <td>Jah World</td>\n",
       "      <td>him speaketh in tongues into the hearts of all...</td>\n",
       "    </tr>\n",
       "    <tr>\n",
       "      <th>4999</th>\n",
       "      <td>Johnny Cash</td>\n",
       "      <td>Home Of The Blues</td>\n",
       "      <td>just around the corner there's heartache  \\r d...</td>\n",
       "    </tr>\n",
       "  </tbody>\n",
       "</table>\n",
       "</div>"
      ],
      "text/plain": [
       "            artist                     song  \\\n",
       "4995    Thin Lizzy     Fighting My Way Back   \n",
       "4996   Ray Charles       Georgia On My Mind   \n",
       "4997          Z-Ro  Can't Leave Drank Alone   \n",
       "4998  Wu-Tang Clan                Jah World   \n",
       "4999   Johnny Cash        Home Of The Blues   \n",
       "\n",
       "                                                   text  \n",
       "4995  i'm tough, rough, ready and able  \\r to pick m...  \n",
       "4996  georgia, georgia,  \\r the whole day through  \\...  \n",
       "4997  i can't leave drank alone it got me feeling  \\...  \n",
       "4998  him speaketh in tongues into the hearts of all...  \n",
       "4999  just around the corner there's heartache  \\r d...  "
      ]
     },
     "execution_count": 114,
     "metadata": {},
     "output_type": "execute_result"
    }
   ],
   "source": [
    "df.tail(5)"
   ]
  },
  {
   "cell_type": "code",
   "execution_count": 115,
   "metadata": {},
   "outputs": [],
   "source": [
    "import nltk\n",
    "from nltk.stem.porter import PorterStemmer\n",
    "stemmer = PorterStemmer()\n",
    "def token(txt):\n",
    "    token = nltk.word_tokenize(txt)\n",
    "    a = [stemmer.stem(w) for w in token]\n",
    "    return \" \".join(a)"
   ]
  },
  {
   "cell_type": "code",
   "execution_count": 116,
   "metadata": {},
   "outputs": [
    {
     "data": {
      "text/plain": [
       "'you are beauti , beauti'"
      ]
     },
     "execution_count": 116,
     "metadata": {},
     "output_type": "execute_result"
    }
   ],
   "source": [
    "token(\"you are beautiful, beauty\")"
   ]
  },
  {
   "cell_type": "code",
   "execution_count": 117,
   "metadata": {},
   "outputs": [],
   "source": [
    "df['text'] = df['text'].apply(lambda x: token(x))"
   ]
  },
  {
   "cell_type": "code",
   "execution_count": 118,
   "metadata": {},
   "outputs": [
    {
     "data": {
      "text/plain": [
       "0       first glanc , you nearli made my jaw drop firs...\n",
       "1       there 's you , you 're sleep over there whilst...\n",
       "2       oh yeah , oh yeah oh yeah , oh yeah imagin i '...\n",
       "3       gon na kick off my shoe and run in bare feet w...\n",
       "4       i like that though that 's what 's up some peo...\n",
       "                              ...                        \n",
       "4995    i 'm tough , rough , readi and abl to pick mys...\n",
       "4996    georgia , georgia , the whole day through just...\n",
       "4997    i ca n't leav drank alon it got me feel ( feel...\n",
       "4998    him speaketh in tongu into the heart of all fl...\n",
       "4999    just around the corner there 's heartach down ...\n",
       "Name: text, Length: 5000, dtype: object"
      ]
     },
     "execution_count": 118,
     "metadata": {},
     "output_type": "execute_result"
    }
   ],
   "source": [
    "df['text']"
   ]
  },
  {
   "cell_type": "code",
   "execution_count": 119,
   "metadata": {},
   "outputs": [],
   "source": [
    "from sklearn.feature_extraction.text import TfidfVectorizer\n",
    "from sklearn.metrics.pairwise import cosine_similarity"
   ]
  },
  {
   "cell_type": "code",
   "execution_count": 120,
   "metadata": {},
   "outputs": [],
   "source": [
    "tfidvector = TfidfVectorizer(analyzer='word',stop_words='english')\n",
    "matrix = tfidvector.fit_transform(df['text'])\n",
    "similarity = cosine_similarity(matrix)"
   ]
  },
  {
   "cell_type": "code",
   "execution_count": 121,
   "metadata": {},
   "outputs": [
    {
     "data": {
      "text/plain": [
       "array([1.        , 0.01901474, 0.26792092, ..., 0.10409873, 0.02667289,\n",
       "       0.07118712])"
      ]
     },
     "execution_count": 121,
     "metadata": {},
     "output_type": "execute_result"
    }
   ],
   "source": [
    "similarity[0]"
   ]
  },
  {
   "cell_type": "code",
   "execution_count": 124,
   "metadata": {},
   "outputs": [
    {
     "data": {
      "text/html": [
       "<div>\n",
       "<style scoped>\n",
       "    .dataframe tbody tr th:only-of-type {\n",
       "        vertical-align: middle;\n",
       "    }\n",
       "\n",
       "    .dataframe tbody tr th {\n",
       "        vertical-align: top;\n",
       "    }\n",
       "\n",
       "    .dataframe thead th {\n",
       "        text-align: right;\n",
       "    }\n",
       "</style>\n",
       "<table border=\"1\" class=\"dataframe\">\n",
       "  <thead>\n",
       "    <tr style=\"text-align: right;\">\n",
       "      <th></th>\n",
       "      <th>artist</th>\n",
       "      <th>song</th>\n",
       "      <th>text</th>\n",
       "    </tr>\n",
       "  </thead>\n",
       "  <tbody>\n",
       "    <tr>\n",
       "      <th>4995</th>\n",
       "      <td>Thin Lizzy</td>\n",
       "      <td>Fighting My Way Back</td>\n",
       "      <td>i 'm tough , rough , readi and abl to pick mys...</td>\n",
       "    </tr>\n",
       "  </tbody>\n",
       "</table>\n",
       "</div>"
      ],
      "text/plain": [
       "          artist                  song  \\\n",
       "4995  Thin Lizzy  Fighting My Way Back   \n",
       "\n",
       "                                                   text  \n",
       "4995  i 'm tough , rough , readi and abl to pick mys...  "
      ]
     },
     "execution_count": 124,
     "metadata": {},
     "output_type": "execute_result"
    }
   ],
   "source": [
    "df[df['song'] == 'Fighting My Way Back']"
   ]
  },
  {
   "cell_type": "code",
   "execution_count": 126,
   "metadata": {},
   "outputs": [
    {
     "data": {
      "text/plain": [
       "4995"
      ]
     },
     "execution_count": 126,
     "metadata": {},
     "output_type": "execute_result"
    }
   ],
   "source": [
    "df[df['song'] == 'Fighting My Way Back'].index[0]"
   ]
  },
  {
   "cell_type": "markdown",
   "metadata": {},
   "source": [
    "### Recomender Function"
   ]
  },
  {
   "cell_type": "code",
   "execution_count": 127,
   "metadata": {},
   "outputs": [],
   "source": [
    "def recommendation(song_df):\n",
    "    idx = df[df['song'] == song_df].index[0]\n",
    "    distances = sorted(list(enumerate(similarity[idx])),reverse=True,key=lambda x:x[1])\n",
    "    \n",
    "    songs = []\n",
    "    for m_id in distances[1:21]:\n",
    "        songs.append(df.iloc[m_id[0]].song)\n",
    "    return songs"
   ]
  },
  {
   "cell_type": "code",
   "execution_count": 129,
   "metadata": {},
   "outputs": [
    {
     "data": {
      "text/plain": [
       "['Call To Arms',\n",
       " 'Fight For Ourselves',\n",
       " 'In The Way',\n",
       " 'Like It Or Not',\n",
       " 'Fight For Your Life',\n",
       " 'My Opening Farewell',\n",
       " \"That Joke Isn't Funny Anymore\",\n",
       " 'Soon',\n",
       " 'A Little Want To',\n",
       " 'Future Mister Me',\n",
       " 'Fight Like A Brave',\n",
       " 'Atrocity Exhibition',\n",
       " \"Can't Fight The Moonlight\",\n",
       " 'Back To The Future',\n",
       " 'Busted',\n",
       " 'Let The Little Boy Sing',\n",
       " 'Let It Flow',\n",
       " 'My Opening Farewell',\n",
       " \"I'm Ready\",\n",
       " 'Set A Place At Your Table']"
      ]
     },
     "execution_count": 129,
     "metadata": {},
     "output_type": "execute_result"
    }
   ],
   "source": [
    "recommendation('Fighting My Way Back')"
   ]
  },
  {
   "cell_type": "code",
   "execution_count": 130,
   "metadata": {},
   "outputs": [],
   "source": [
    "import pickle\n",
    "pickle.dump(similarity,open('similarity.pkl','wb'))\n",
    "pickle.dump(df,open('df.pkl','wb'))"
   ]
  }
 ],
 "metadata": {
  "kernelspec": {
   "display_name": "venv",
   "language": "python",
   "name": "python3"
  },
  "language_info": {
   "codemirror_mode": {
    "name": "ipython",
    "version": 3
   },
   "file_extension": ".py",
   "mimetype": "text/x-python",
   "name": "python",
   "nbconvert_exporter": "python",
   "pygments_lexer": "ipython3",
   "version": "3.12.0"
  }
 },
 "nbformat": 4,
 "nbformat_minor": 2
}
